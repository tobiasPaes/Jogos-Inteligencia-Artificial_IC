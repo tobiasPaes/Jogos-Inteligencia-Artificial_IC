{
  "cells": [
    {
      "cell_type": "markdown",
      "id": "electronic-fisher",
      "metadata": {
        "id": "electronic-fisher"
      },
      "source": [
        "### A* em python"
      ]
    },
    {
      "cell_type": "code",
      "execution_count": 1,
      "id": "tight-infrared",
      "metadata": {
        "id": "tight-infrared",
        "outputId": "a180b59d-6ffa-4c7e-931c-ade7f521934c",
        "colab": {
          "base_uri": "https://localhost:8080/"
        }
      },
      "outputs": [
        {
          "output_type": "stream",
          "name": "stdout",
          "text": [
            "Looking in indexes: https://pypi.org/simple, https://us-python.pkg.dev/colab-wheels/public/simple/\n",
            "Collecting pygame\n",
            "  Downloading pygame-2.1.2-cp37-cp37m-manylinux_2_17_x86_64.manylinux2014_x86_64.whl (21.8 MB)\n",
            "\u001b[K     |████████████████████████████████| 21.8 MB 1.3 MB/s \n",
            "\u001b[?25hInstalling collected packages: pygame\n",
            "Successfully installed pygame-2.1.2\n",
            "Looking in indexes: https://pypi.org/simple, https://us-python.pkg.dev/colab-wheels/public/simple/\n",
            "Requirement already satisfied: pygame in /usr/local/lib/python3.7/dist-packages (2.1.2)\n"
          ]
        }
      ],
      "source": [
        "!pip install pygame\n",
        "!python -m pip install pygame"
      ]
    },
    {
      "cell_type": "code",
      "execution_count": null,
      "id": "lucky-territory",
      "metadata": {
        "id": "lucky-territory"
      },
      "outputs": [],
      "source": [
        "import pygame\n",
        "import math\n",
        "from queue import PriorityQueue"
      ]
    },
    {
      "cell_type": "code",
      "source": [
        "import os \n",
        "os.environ[\"SDL_VIDEODRIVER\"] = \"dummy\""
      ],
      "metadata": {
        "id": "wyIJbChRD9V5"
      },
      "id": "wyIJbChRD9V5",
      "execution_count": 4,
      "outputs": []
    },
    {
      "cell_type": "code",
      "execution_count": 5,
      "id": "advised-purse",
      "metadata": {
        "id": "advised-purse"
      },
      "outputs": [],
      "source": [
        "WIDTH = 800\n",
        "WIN = pygame.display.set_mode((WIDTH, WIDTH))\n",
        "pygame.display.set_caption('A* IC TADS UFRN')"
      ]
    },
    {
      "cell_type": "code",
      "execution_count": 6,
      "id": "attended-jenny",
      "metadata": {
        "id": "attended-jenny"
      },
      "outputs": [],
      "source": [
        "#cores\n",
        "RED = (255,0,0)\n",
        "GREEN = (0,255,0) #se está no conjunto aberto (open set)\n",
        "BLUE = (0,0,255)\n",
        "YELLOW = (255,255,0)\n",
        "WHITE = (255,255,255)\n",
        "BLACK = (0,0,0) #obstáculo\n",
        "PURPLE = (128,0,128)\n",
        "ORANGE = (255,165,0) #nó inicial\n",
        "GRAY = (128,128,128)\n",
        "TURQUOISE = (64,224,208)\n"
      ]
    },
    {
      "cell_type": "code",
      "execution_count": 7,
      "id": "super-effects",
      "metadata": {
        "id": "super-effects"
      },
      "outputs": [],
      "source": [
        "# estado do nó\n",
        "class Node:\n",
        "    def __init__(self, row, col, width, total_rows):\n",
        "        self.row = row\n",
        "        self.col = col\n",
        "        self.x = row * width\n",
        "        self.y = col * width\n",
        "        self.color = WHITE #ainda não foi visitado\n",
        "        self.neighbors = []\n",
        "        self.width = width\n",
        "        self.total_rows = total_rows\n",
        "    \n",
        "    def get_pos(self):\n",
        "        return self.row, self.col\n",
        "    \n",
        "    def is_closed(self):\n",
        "        return self.color == RED #se já foi visitado\n",
        "    \n",
        "    def is_open(self):\n",
        "        return self.color == GREEN #se está no open set\n",
        "    \n",
        "    def is_obstacle(self):\n",
        "        return self.color == BLACK\n",
        "    \n",
        "    def is_start(self):\n",
        "        return self.color == ORANGE\n",
        "    \n",
        "    def is_end(self):\n",
        "        return self.color == PURPLE\n",
        "    \n",
        "    def reset(self):\n",
        "        self.color = WHITE\n",
        "    \n",
        "    def make_start(self):\n",
        "        self.color = ORANGE\n",
        "    \n",
        "    def make_closed(self):\n",
        "        self.color = RED\n",
        "        \n",
        "    def make_open(self):\n",
        "        self.color = GREEN\n",
        "        \n",
        "    def make_obstacle(self):\n",
        "        self.color = BLACK\n",
        "        \n",
        "    def make_end(self):\n",
        "        self.color = TURQUOISE\n",
        "        \n",
        "    def make_path(self):\n",
        "        self.color = PURPLE\n",
        "        \n",
        "    def draw(self, win):\n",
        "      \n",
        "        pygame.draw.rect(win, self.color, pygame.Rect(self.x, self.y, self.width, self.width))\n",
        "        \n",
        "    def update_neighbors(self, grid):\n",
        "        self.neighbors = []*self.col #apenas ao redor, sem diagonais\n",
        "        #abaixo\n",
        "        if self.row < self.total_rows-1 and not grid[self.row+1][self.col].is_obstacle():\n",
        "            self.neighbors.append(grid[self.row+1][self.col])\n",
        "        #acima\n",
        "        if self.row > 0 and not grid[self.row-1][self.col].is_obstacle():\n",
        "            self.neighbors.append(grid[self.row-1][self.col])\n",
        "        #esquerda\n",
        "        if self.col < self.total_rows-1 and not grid[self.row][self.col+1].is_obstacle():\n",
        "            self.neighbors.append(grid[self.row][self.col+1])\n",
        "        #direita\n",
        "        if self.col > 0 and not grid[self.row][self.col-1].is_obstacle():\n",
        "            self.neighbors.append(grid[self.row][self.col-1])\n",
        "            \n",
        "        #diagonal abaixo direita    \n",
        "        if self.row < self.total_rows-1 and self.col > 0 and not grid[self.row+1][self.col-1].is_obstacle():\n",
        "            self.neighbors.append(grid[self.row+1][self.col-1])\n",
        "        #diagonal abaixo esquerda   \n",
        "        if self.row < self.total_rows-1 and self.col < self.total_rows-1 and not grid[self.row+1][self.col+1].is_obstacle():\n",
        "            self.neighbors.append(grid[self.row+1][self.col+1]) \n",
        "            \n",
        "        #diagonal acima direita    \n",
        "        if self.row > 0 and self.col > 0 and not grid[self.row-1][self.col-1].is_obstacle():\n",
        "            self.neighbors.append(grid[self.row-1][self.col-1])\n",
        "        #diagonal acima esquerda   \n",
        "        if self.row > 0 and self.col < self.total_rows-1 and not grid[self.row-1][self.col+1].is_obstacle():\n",
        "            self.neighbors.append(grid[self.row-1][self.col+1])   \n",
        "    \n",
        "    \n",
        "    def __lt__(self, other):\n",
        "        return False"
      ]
    },
    {
      "cell_type": "code",
      "execution_count": 8,
      "id": "liberal-immune",
      "metadata": {
        "id": "liberal-immune"
      },
      "outputs": [],
      "source": [
        "#heuristica componente h - distância aproximada de um ponto a outro\n",
        "import numpy as np\n",
        "def h(p1, p2):\n",
        "    #distancia manhatan (taxi - distancia L) (poderia ser euclidiana, etc.)\n",
        "    x1, y1 = p1\n",
        "    x2, y2 = p2\n",
        "    return math.sqrt(pow(x1 - x2,2) + pow(y1 - y2,2))\n",
        "    #return abs(x1 - x2) + abs(y1 - y2)"
      ]
    },
    {
      "cell_type": "code",
      "execution_count": 9,
      "id": "minimal-arcade",
      "metadata": {
        "id": "minimal-arcade"
      },
      "outputs": [],
      "source": [
        "def reconstruct_path(came_from, current, draw):\n",
        "    while current in came_from:\n",
        "        current = came_from[current]\n",
        "        current.make_path()\n",
        "        draw()\n",
        "    "
      ]
    },
    {
      "cell_type": "code",
      "execution_count": 10,
      "id": "monetary-hopkins",
      "metadata": {
        "id": "monetary-hopkins"
      },
      "outputs": [],
      "source": [
        "def a_star(draw, grid, start, end):\n",
        "    count = 0 #tie brake\n",
        "    open_set = PriorityQueue() #fila de prioridade\n",
        "    #insere nó inicial com F = 0 (lembrar que f = g + h)\n",
        "    open_set.put((0, count, start))\n",
        "    came_from = {} #caminho inverso de onde veio para chegar ao nó atual\n",
        "    g_score = {node: float(\"inf\") for row in grid for node in row}\n",
        "    g_score[start] = 0\n",
        "    f_score = {node: float(\"inf\") for row in grid for node in row}\n",
        "    f_score[start] = h(start.get_pos(), end.get_pos())\n",
        "    \n",
        "    open_set_hash = {start} #para checar se elemento está na fila de prioridade\n",
        "    \n",
        "    while not open_set.empty():\n",
        "        for event in pygame.event.get():\n",
        "            if event.type == pygame.QUIT:\n",
        "                pygame.quit()\n",
        "                \n",
        "        current = open_set.get()[2]\n",
        "        open_set_hash.remove(current)\n",
        "        \n",
        "        if current == end:\n",
        "            reconstruct_path(came_from, end, draw)\n",
        "            end.make_end()\n",
        "            return True #construir caminho - chegou ao fim\n",
        "        \n",
        "        for neighbor in current.neighbors:\n",
        "            temp_g_score = g_score[current] + 1 #assume arestas com 1\n",
        "            if temp_g_score < g_score[neighbor]:\n",
        "                came_from[neighbor] = current\n",
        "                g_score[neighbor] = temp_g_score\n",
        "                f_score[neighbor] = temp_g_score + h(neighbor.get_pos(), end.get_pos())\n",
        "                if neighbor not in open_set_hash:\n",
        "                    count += 1\n",
        "                    open_set.put((f_score[neighbor], count, neighbor))\n",
        "                    open_set_hash.add(neighbor)\n",
        "                    neighbor.make_open() #green\n",
        "                    \n",
        "        draw()\n",
        "        \n",
        "        if current != start:\n",
        "            current.make_closed()"
      ]
    },
    {
      "cell_type": "code",
      "execution_count": 11,
      "id": "hundred-casino",
      "metadata": {
        "id": "hundred-casino"
      },
      "outputs": [],
      "source": [
        "#construção da grade com certo número de linhas e certa largura\n",
        "def make_grid(rows, width):\n",
        "    grid = []\n",
        "    gap = width // rows\n",
        "    for i in range(rows):\n",
        "        grid.append([])\n",
        "        for j in range(rows):\n",
        "            node = Node(i, j, gap, rows)\n",
        "            grid[i].append(node)\n",
        "    return grid\n",
        "    "
      ]
    },
    {
      "cell_type": "code",
      "execution_count": 12,
      "id": "excited-prophet",
      "metadata": {
        "id": "excited-prophet"
      },
      "outputs": [],
      "source": [
        "#desenha as linhas na grade\n",
        "def draw_grid(win, rows, width):\n",
        "    gap = width // rows\n",
        "    for i in range(rows):\n",
        "        pygame.draw.line(win, GRAY, (0, i * gap), (width, i * gap))\n",
        "        for j in range(rows):\n",
        "            pygame.draw.line(win, GRAY, (j * gap, 0), (j * gap, width))"
      ]
    },
    {
      "cell_type": "code",
      "execution_count": 13,
      "id": "accessible-carter",
      "metadata": {
        "id": "accessible-carter"
      },
      "outputs": [],
      "source": [
        "#deseja de fato a grade\n",
        "def draw(win, grid, rows, width):\n",
        "    win.fill(WHITE)\n",
        "    for row in grid:\n",
        "        for node in row:\n",
        "            node.draw(win)\n",
        "    draw_grid(win, rows, width)\n",
        "    pygame.display.update()"
      ]
    },
    {
      "cell_type": "code",
      "execution_count": 14,
      "id": "introductory-boxing",
      "metadata": {
        "id": "introductory-boxing"
      },
      "outputs": [],
      "source": [
        "#obtém posição do click de cada nó\n",
        "def get_clicked_pos(pos, rows, width):\n",
        "    gap = width // rows\n",
        "    y, x = pos\n",
        "    row = y // gap\n",
        "    col = x // gap\n",
        "    return row, col"
      ]
    },
    {
      "cell_type": "code",
      "execution_count": 15,
      "id": "analyzed-scheme",
      "metadata": {
        "id": "analyzed-scheme"
      },
      "outputs": [],
      "source": [
        "#main loop\n",
        "def main(win, width):\n",
        "    ROWS = 50\n",
        "    grid = make_grid(ROWS, width)\n",
        "    \n",
        "    start = None\n",
        "    end = None\n",
        "    \n",
        "    run = True\n",
        "    started = False\n",
        "    \n",
        "    while run:\n",
        "        draw(win, grid, ROWS, width)\n",
        "        for event in pygame.event.get():\n",
        "            if event.type == pygame.QUIT:\n",
        "                run = False\n",
        "        \n",
        "            if started:\n",
        "                continue\n",
        "            \n",
        "            if pygame.mouse.get_pressed()[0]: #0 botão esquerdo do mouse\n",
        "                pos = pygame.mouse.get_pos()\n",
        "                row, col = get_clicked_pos(pos, ROWS, width)\n",
        "                node = grid[row][col]\n",
        "                if not start and node != end:\n",
        "                    start = node\n",
        "                    start.make_start()\n",
        "                elif not end and node != start:\n",
        "                    end = node\n",
        "                    end.make_end()\n",
        "                elif node != end and node != start:\n",
        "                    node.make_obstacle()\n",
        "            elif pygame.mouse.get_pressed()[2]: #0 botão direito do mouse\n",
        "                pos = pygame.mouse.get_pos()\n",
        "                row, col = get_clicked_pos(pos, ROWS, width)\n",
        "                node = grid[row][col]\n",
        "                node.reset()\n",
        "                if node == start:\n",
        "                    start = None\n",
        "                elif node == end:\n",
        "                    end = None\n",
        "                    \n",
        "            if event.type == pygame.KEYDOWN:\n",
        "                if event.key == pygame.K_SPACE and not started:\n",
        "                    for row in grid:\n",
        "                        for node in row:\n",
        "                            node.update_neighbors(grid)\n",
        "                            \n",
        "                a_star(lambda: draw(win, grid, ROWS, width), grid, start, end)\n",
        "                \n",
        "    pygame.quit()"
      ]
    },
    {
      "cell_type": "code",
      "execution_count": null,
      "id": "tracked-skill",
      "metadata": {
        "id": "tracked-skill"
      },
      "outputs": [],
      "source": [
        "main(WIN, WIDTH)"
      ]
    },
    {
      "cell_type": "code",
      "execution_count": null,
      "id": "07257d87",
      "metadata": {
        "id": "07257d87"
      },
      "outputs": [],
      "source": []
    }
  ],
  "metadata": {
    "kernelspec": {
      "display_name": "Python 3.9.12 ('base')",
      "language": "python",
      "name": "python3"
    },
    "language_info": {
      "codemirror_mode": {
        "name": "ipython",
        "version": 3
      },
      "file_extension": ".py",
      "mimetype": "text/x-python",
      "name": "python",
      "nbconvert_exporter": "python",
      "pygments_lexer": "ipython3",
      "version": "3.9.12"
    },
    "vscode": {
      "interpreter": {
        "hash": "ad2bdc8ecc057115af97d19610ffacc2b4e99fae6737bb82f5d7fb13d2f2c186"
      }
    },
    "colab": {
      "provenance": []
    }
  },
  "nbformat": 4,
  "nbformat_minor": 5
}